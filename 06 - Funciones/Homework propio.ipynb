{
 "cells": [
  {
   "cell_type": "markdown",
   "metadata": {},
   "source": [
    "1) Crear una función que reciba un número como parámetro y devuelva si True si es primo y False si no lo es"
   ]
  },
  {
   "cell_type": "code",
   "execution_count": 1,
   "metadata": {},
   "outputs": [
    {
     "name": "stdout",
     "output_type": "stream",
     "text": [
      "True\n"
     ]
    }
   ],
   "source": [
    "def son_primos (n):\n",
    "    #var1 = n\n",
    "    cont_primo = 0\n",
    "    #while var1 < n:\n",
    "    for div in range(2, n+1):\n",
    "            if (n % div != 0):\n",
    "                cont_primo += 1\n",
    "    if cont_primo >= 2:\n",
    "        n = True\n",
    "        return n\n",
    "    else:\n",
    "        n = False\n",
    "        return n\n",
    "                \n",
    "print (son_primos(5))"
   ]
  },
  {
   "cell_type": "code",
   "execution_count": 3,
   "metadata": {},
   "outputs": [
    {
     "data": {
      "text/plain": [
       "True"
      ]
     },
     "execution_count": 3,
     "metadata": {},
     "output_type": "execute_result"
    }
   ],
   "source": [
    "def verifica_primo (num):\n",
    "    es_primo = True\n",
    "    for i in range (2, num):\n",
    "        if num % i == 0:\n",
    "            es_primo = False\n",
    "            break\n",
    "    return es_primo\n",
    "verifica_primo (11)"
   ]
  },
  {
   "cell_type": "markdown",
   "metadata": {},
   "source": [
    "2) Utilizando la función del punto 1, realizar otra función que reciba de parámetro una lista de números y devuelva sólo aquellos que son primos en otra lista"
   ]
  },
  {
   "cell_type": "code",
   "execution_count": 4,
   "metadata": {},
   "outputs": [
    {
     "name": "stdout",
     "output_type": "stream",
     "text": [
      "[1, 2, 3, 5, 7, 11, 13, 17, 19, 23, 29, 31, 37, 41]\n"
     ]
    }
   ],
   "source": [
    "def rango_primos(a,b):\n",
    "    list(range(a,b+1))\n",
    "    lista_primos = []\n",
    "    for n in range(a,b+1):\n",
    "        if verifica_primo(n) == True:\n",
    "            lista_primos.append(n)\n",
    "        else:\n",
    "            continue\n",
    "    return lista_primos\n",
    "\n",
    "print (rango_primos(1,41))\n"
   ]
  },
  {
   "cell_type": "code",
   "execution_count": null,
   "metadata": {},
   "outputs": [],
   "source": [
    "def extrae_lista_primos(lista):\n",
    "    primos_lista = []\n",
    "    for i in lista:\n",
    "        if verifica_primo(int(i)):\n",
    "            primos_lista.append (i)\n",
    "    return primos_lista"
   ]
  },
  {
   "cell_type": "markdown",
   "metadata": {},
   "source": [
    "3) Crear una función que al recibir una lista de números, devuelva el que más se repite y cuántas veces lo hace. Si hay más de un \"más repetido\", que devuelva cualquiera"
   ]
  },
  {
   "cell_type": "code",
   "execution_count": null,
   "metadata": {},
   "outputs": [],
   "source": [
    "def repite(list):\n",
    "    mi_lista = []\n",
    "    for i in mi_lista:\n",
    "        if i = \n",
    "\n",
    "    return \"más repetido\" \"y\" \"cuantas veces se repite\""
   ]
  },
  {
   "cell_type": "code",
   "execution_count": 5,
   "metadata": {},
   "outputs": [],
   "source": [
    "def valor_modal(lista):\n",
    "    lista_unicos = []\n",
    "    lista_repeticiones = []\n",
    "    if len(lista) == 0:\n",
    "        return None\n",
    "    for elemento in lista:\n",
    "        if elemento in lista_unicos:\n",
    "            i = lista_unicos.index(elemento)\n",
    "            lista_repeticiones[i] += 1\n",
    "        else:\n",
    "            lista_unicos.append(elemento)\n",
    "            lista_repeticiones.append(1)\n",
    "    moda = lista_unicos[0]\n",
    "    maximo = lista_repeticiones[0]\n",
    "    for i, elemento in enumerate(lista_unicos):\n",
    "        if lista_repeticiones[i] > maximo:\n",
    "            moda = lista_unicos[i]\n",
    "            maximo = lista_repeticiones[i]\n",
    "    return moda, maximo"
   ]
  },
  {
   "cell_type": "code",
   "execution_count": 6,
   "metadata": {},
   "outputs": [],
   "source": [
    "lista1 = {11,2,4,5,11,15,11,11,14,1,2,11,11,13,14}"
   ]
  },
  {
   "cell_type": "code",
   "execution_count": 7,
   "metadata": {},
   "outputs": [
    {
     "data": {
      "text/plain": [
       "(1, 1)"
      ]
     },
     "execution_count": 7,
     "metadata": {},
     "output_type": "execute_result"
    }
   ],
   "source": [
    "valor_modal(lista1)"
   ]
  },
  {
   "cell_type": "markdown",
   "metadata": {},
   "source": [
    "4) A la función del punto 3, agregar un parámetro más, que permita elegir si se requiere el menor o el mayor de los mas repetidos."
   ]
  },
  {
   "cell_type": "code",
   "execution_count": null,
   "metadata": {},
   "outputs": [],
   "source": [
    "def valor_modal (lista, menor):\n",
    "    lista_unicos = []\n",
    "    lista_repeticiones = []\n",
    "\n",
    "    if len(lista) == 0:\n",
    "        return None\n",
    "    if (menor):\n",
    "        lista.sort()\n",
    "    else:\n",
    "        lista.sort(reverse = True)\n",
    "    for elemento in lista:\n",
    "        if elemento in lista_unicos:\n",
    "            i = lista_unicos.index(elemento)\n",
    "            lista_repeticiones[i] += 1\n",
    "        else:\n",
    "            lista_unicos.append (elemento)\n",
    "            lista_repeticiones.append(1)\n",
    "\n",
    "    moda = lista_unicos [0]\n",
    "    maximo = lista_repeticiones [0]\n",
    "\n",
    "    for i, elemento in enumerate(lista_unicos):\n",
    "        if lista_repeticiones[i] > maximo:\n",
    "            moda = lista_unicos [i]\n",
    "            maximo = lista_repeticiones[i]\n",
    "\n",
    "    return moda, maximo\n"
   ]
  },
  {
   "cell_type": "markdown",
   "metadata": {},
   "source": [
    "5) Crear una función que convierta entre grados Celsius, Farenheit y Kelvin<br>\n",
    "Fórmula 1\t: (°C × 9/5) + 32 = °F<br>\n",
    "Fórmula 2\t: °C + 273.15 = °K<br>\n",
    "Debe recibir 3 parámetros: el valor, la medida de orígen y la medida de destino"
   ]
  },
  {
   "cell_type": "code",
   "execution_count": 23,
   "metadata": {},
   "outputs": [
    {
     "name": "stdout",
     "output_type": "stream",
     "text": [
      "1.6666666666666667\n"
     ]
    }
   ],
   "source": [
    "def grados(val, med_or, med_dest):\n",
    "    \n",
    "    if med_or == \"F\":\n",
    "        if med_dest == \"F\":\n",
    "            val_dest = val\n",
    "        elif med_dest == \"C\":\n",
    "            val_dest = (val-32) * 5 / 9\n",
    "        elif med_dest  == \"K\" or \"k\":\n",
    "            val_dest = (val - 32) * (5 / 9) + 273.15\n",
    "        else:\n",
    "            print (\"Medida incorrecta, revisa de nuevo\")\n",
    "    \n",
    "    elif med_or == \"K\":\n",
    "        if med_dest == \"K\":\n",
    "            val_dest = val\n",
    "        elif med_dest == \"C\":\n",
    "            val_dest = val -273.15\n",
    "        elif med_dest == \"F\":\n",
    "            val_dest = (val - 273.15) * (9 / 5) + 32\n",
    "        else:\n",
    "            print (\"Medida incorrecta, revisa de nuevo\")\n",
    "    \n",
    "    elif med_or == \"C\":\n",
    "        if med_dest == \"C\":\n",
    "            val_dest = val\n",
    "        elif med_dest == \"F\":\n",
    "            val_dest = val * (9 / 5) + 32\n",
    "        elif med_dest == \"K\":\n",
    "            val_dest = val + 273.15\n",
    "        else:    \n",
    "            print (\"Medida incorrecta, revisa de nuevo\")\n",
    "    \n",
    "    else:\n",
    "        print (\"el valor es incorrrecto, revisalo\")\n",
    "    \n",
    "    return val_dest\n",
    "            \n",
    "print (grados(35, \"F\", \"C\"))\n"
   ]
  },
  {
   "cell_type": "markdown",
   "metadata": {},
   "source": [
    "6) Iterando una lista con los tres valores posibles de temperatura que recibe la función del punto 5, hacer un print para cada combinación de los mismos:"
   ]
  },
  {
   "cell_type": "code",
   "execution_count": 24,
   "metadata": {},
   "outputs": [
    {
     "name": "stdout",
     "output_type": "stream",
     "text": [
      "1 grado C a: C : 1\n",
      "1 grado C a: K : 274.15\n",
      "1 grado C a: F : 33.8\n",
      "1 grado K a: C : -272.15\n",
      "1 grado K a: K : 1\n",
      "1 grado K a: F : -457.86999999999995\n",
      "1 grado F a: C : -17.22222222222222\n",
      "1 grado F a: K : 255.92777777777775\n",
      "1 grado F a: F : 1\n"
     ]
    }
   ],
   "source": [
    "lista_temp = [\"C\",\"K\",\"F\"]\n",
    "for i in range (0,3):\n",
    "    for j in range (0,3):\n",
    "        print (\"1 grado\", lista_temp [i], \"a:\", lista_temp[j],\":\", grados (1,lista_temp[i],lista_temp[j]))"
   ]
  },
  {
   "cell_type": "markdown",
   "metadata": {},
   "source": [
    "7) Armar una función que devuelva el factorial de un número. Tener en cuenta que el usuario puede equivocarse y enviar de parámetro un número no entero o negativo"
   ]
  },
  {
   "cell_type": "code",
   "execution_count": 41,
   "metadata": {},
   "outputs": [
    {
     "name": "stdout",
     "output_type": "stream",
     "text": [
      "el valor ingresado es un número negativo\n"
     ]
    }
   ],
   "source": [
    "def fac (num):\n",
    "    if type(num) != int:\n",
    "        print (\"el valor ingresado no es un número entero\")\n",
    "    \n",
    "    elif num <= 0:\n",
    "        print (\"el valor ingresado es un número negativo\")\n",
    "\n",
    "    elif type (num) == int:\n",
    "        for i in range(2,num):\n",
    "            num = i * num    \n",
    "        return num\n",
    "\n",
    "fac (-4)"
   ]
  },
  {
   "cell_type": "code",
   "execution_count": null,
   "metadata": {},
   "outputs": [],
   "source": [
    " def factorial (numero):\n",
    "    if type(numero) != int:\n",
    "        print (\"el valor ingresado no es un número entero\")\n",
    "    if numero < 0:\n",
    "        print (\"el valor ingresado es un número negativo\")\n",
    "    if numero > 1:\n",
    "        numero = numero * factorial(numero - 1)\n",
    "    return numero\n",
    "\n",
    "print (factorial (5))"
   ]
  }
 ],
 "metadata": {
  "kernelspec": {
   "display_name": "Python 3.10.6 64-bit",
   "language": "python",
   "name": "python3"
  },
  "language_info": {
   "codemirror_mode": {
    "name": "ipython",
    "version": 3
   },
   "file_extension": ".py",
   "mimetype": "text/x-python",
   "name": "python",
   "nbconvert_exporter": "python",
   "pygments_lexer": "ipython3",
   "version": "3.10.6"
  },
  "orig_nbformat": 4,
  "vscode": {
   "interpreter": {
    "hash": "25cf953c3b13aa3bfdfd2d21cf5b1b5e016499c91a26176b30662ddb8d1c5c1d"
   }
  }
 },
 "nbformat": 4,
 "nbformat_minor": 2
}
